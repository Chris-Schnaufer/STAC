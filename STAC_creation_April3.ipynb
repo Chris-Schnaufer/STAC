{
 "cells": [
  {
   "cell_type": "markdown",
   "id": "3e2fbb91",
   "metadata": {},
   "source": [
    "This code will create a STAC catalog and add several items from a local folder"
   ]
  },
  {
   "cell_type": "code",
   "execution_count": 1,
   "id": "6a4ef00a",
   "metadata": {
    "scrolled": true,
    "tags": []
   },
   "outputs": [
    {
     "name": "stdout",
     "output_type": "stream",
     "text": [
      "Requirement already satisfied: rasterio in /opt/conda/lib/python3.10/site-packages (1.3.6)\n",
      "Requirement already satisfied: shapely in /opt/conda/lib/python3.10/site-packages (2.0.1)\n",
      "Requirement already satisfied: pystac in /opt/conda/lib/python3.10/site-packages (1.7.2)\n",
      "Requirement already satisfied: piexif in /opt/conda/lib/python3.10/site-packages (1.1.3)\n",
      "Requirement already satisfied: affine in /opt/conda/lib/python3.10/site-packages (from rasterio) (2.4.0)\n",
      "Requirement already satisfied: cligj>=0.5 in /opt/conda/lib/python3.10/site-packages (from rasterio) (0.7.2)\n",
      "Requirement already satisfied: attrs in /opt/conda/lib/python3.10/site-packages (from rasterio) (22.2.0)\n",
      "Requirement already satisfied: click-plugins in /opt/conda/lib/python3.10/site-packages (from rasterio) (1.1.1)\n",
      "Requirement already satisfied: click>=4.0 in /opt/conda/lib/python3.10/site-packages (from rasterio) (8.1.3)\n",
      "Requirement already satisfied: numpy>=1.18 in /opt/conda/lib/python3.10/site-packages (from rasterio) (1.23.5)\n",
      "Requirement already satisfied: setuptools in /opt/conda/lib/python3.10/site-packages (from rasterio) (67.1.0)\n",
      "Requirement already satisfied: snuggs>=1.4.1 in /opt/conda/lib/python3.10/site-packages (from rasterio) (1.4.7)\n",
      "Requirement already satisfied: certifi in /opt/conda/lib/python3.10/site-packages (from rasterio) (2022.12.7)\n",
      "Requirement already satisfied: python-dateutil>=2.7.0 in /opt/conda/lib/python3.10/site-packages (from pystac) (2.8.2)\n",
      "Requirement already satisfied: six>=1.5 in /opt/conda/lib/python3.10/site-packages (from python-dateutil>=2.7.0->pystac) (1.16.0)\n",
      "Requirement already satisfied: pyparsing>=2.1.6 in /opt/conda/lib/python3.10/site-packages (from snuggs>=1.4.1->rasterio) (3.0.9)\n",
      "Note: you may need to restart the kernel to use updated packages.\n"
     ]
    }
   ],
   "source": [
    "%pip install rasterio shapely pystac piexif"
   ]
  },
  {
   "cell_type": "code",
   "execution_count": 2,
   "id": "b31d3fde-b1c6-463c-a885-a160e4ce1d9d",
   "metadata": {
    "tags": []
   },
   "outputs": [],
   "source": [
    "# Additional Metadata to add to items\n",
    "platform = 'DJI Phantom 4 RTK'\n",
    "license = 'CC-BY-SA-4.0'\n",
    "\n",
    "# top-level catalog definitions\n",
    "catalog_id = 'Cyverse Remotely Sensed Imagery STAC Catalog'\n",
    "catalog_description = 'This catalog includes all of the imagery assets the exist in Cyverse Data Store'\n",
    "\n",
    "# collection definitions\n",
    "collection_id = 'Drone_Imagery_Collection' # needs to be folder-name compatible\n",
    "collection_description = 'Drone_Imagery'\n",
    "\n",
    "# source images folder\n",
    "#source_image_folder = '/data-store/iplant/home/jgillan/STAC_drone'\n",
    "source_image_folder = '/data-store/iplant/home/shared/bighorn_fire/Bighorn_Fire_Imagery/Catalina_Mnts_Drone_2021'\n",
    "\n",
    "#commons_repo/curated/Gillan_Ecosphere_2021/raster_products/May_2019/15_g2_products'\n",
    "              \n",
    "\n",
    "# output folder (will overwrite existing files with matching output names)\n",
    "stac_output_directory = '/data-store/iplant/home/jgillan/STAC_drone/stac_bighorn_fire'\n",
    "\n",
    "# email variables - DON'T CHANGE these unless you know what you're doing\n",
    "contact_email = 'jgillan@arizona.edu'\n",
    "smtp_host = '128.196.254.80'\n",
    "\n",
    "# input the date and time of original imagery acquisition\n",
    "# dating assets will be a manual process. \n",
    "from datetime import datetime\n",
    "year = 2019\n",
    "month = 5\n",
    "day = 25\n",
    "hour = 12\n",
    "\n",
    "# create default datetime object for the collection - used when files don't have the EXIF creation timestamp\n",
    "default_datetime = datetime(year=2019, month=5, day=25, hour=12)\n",
    "\n",
    "#data_type = 'uint8'\n",
    "items_mission_description = 'The imagery was part of the Ecostate Mapping project of 2019 at Santa Rita Experimental Range'\n"
   ]
  },
  {
   "cell_type": "code",
   "execution_count": 3,
   "id": "06301146",
   "metadata": {
    "tags": []
   },
   "outputs": [],
   "source": [
    "from datetime import datetime\n",
    "from pathlib import Path\n",
    "import pystac\n",
    "import os\n",
    "\n",
    "# create the catalog instance\n",
    "catalog = pystac.Catalog(\n",
    "    id=catalog_id,\n",
    "    description=catalog_description,\n",
    "    stac_extensions=['https://stac-extensions.github.io/projection/v1.0.0/schema.json',\n",
    "                    'https://stac-extensions.github.io/processing/v1.1.0/schema.json']\n",
    ")"
   ]
  },
  {
   "cell_type": "code",
   "execution_count": 4,
   "id": "551ad62e-e759-4110-9add-e5a2a1e67c84",
   "metadata": {
    "tags": []
   },
   "outputs": [],
   "source": [
    "import rasterio\n",
    "\n",
    "# function to truncate spatial resolution to 3 decimal places\n",
    "def trun_n_d(num,n):\n",
    "    num_s = str(num)\n",
    "    if 'e' in num_s or 'E' in num_s:\n",
    "        return '{0:.{1}f}'.format(num,n)\n",
    "    i,p,d = num_s.partition('.')\n",
    "    return '.'.join([i,(d+'0'*n)[:n]])\n",
    "\n",
    "# function to get the spatial resolution of a raster. The imagery product has to have a projection, or else the gsd will be 0.00\n",
    "def spatial_resolution(raster):\n",
    "    \"\"\"extracts the XY Pixel Size\"\"\"\n",
    "    t = raster.transform\n",
    "    x = t[0]\n",
    "    y = -t[4]\n",
    "    x_trunc = trun_n_d(x, 3)\n",
    "    y_trunc = trun_n_d(y, 3)\n",
    "    return x_trunc, y_trunc"
   ]
  },
  {
   "cell_type": "code",
   "execution_count": 5,
   "id": "cf773eff",
   "metadata": {
    "tags": []
   },
   "outputs": [],
   "source": [
    "from shapely.geometry import Polygon, mapping\n",
    "import rasterio\n",
    "import rasterio.warp\n",
    "import rasterio.features\n",
    "\n",
    "#This creates a function called 'get_bbox_and_footprint' \n",
    "def get_bbox_and_footprint(dataset):\n",
    "\n",
    "    # create the bounding box it will depend if it comes from rasterio or rioxarray\n",
    "    bounds = dataset.bounds\n",
    "    \n",
    "    bounds = rasterio.warp.transform_bounds(dataset.crs, 'EPSG:4326', \n",
    "                                            bounds.left, bounds.bottom, bounds.right, bounds.top)\n",
    "    bounds = rasterio.coords.BoundingBox(bounds[0], bounds[1], bounds[2], bounds[3])\n",
    "    \n",
    "    #from rasterio.warp import transform_bounds, transform_geom\n",
    "    #bounds = rasterio.warp.transform_geom(\n",
    "         #   dataset.crs, 'EPSG:4326', bounds, precision=6)\n",
    "    \n",
    "    if isinstance(bounds, rasterio.coords.BoundingBox):\n",
    "        bbox = [bounds.left, bounds.bottom, bounds.right, bounds.top]\n",
    "    else:\n",
    "        bbox = [float(f) for f in bounds()]\n",
    "\n",
    "    # create the 4 corners of the footprint\n",
    "    footprint = Polygon([\n",
    "        [bbox[0], bbox[1]],#left bottom\n",
    "        [bbox[0], bbox[3]],#left top\n",
    "        [bbox[2], bbox[3]],#right top\n",
    "        [bbox[2], bbox[1]] #right bottom\n",
    "    ])\n",
    "\n",
    "    return bbox, mapping(footprint)"
   ]
  },
  {
   "cell_type": "code",
   "execution_count": 6,
   "id": "99748c77",
   "metadata": {
    "tags": []
   },
   "outputs": [],
   "source": [
    "#import piexif\n",
    "\n",
    "#def exif_to_timestamp(file_path):\n",
    "    # EXIF tags to look for\n",
    "   # EXIF_ORIGIN_TIMESTAMP = 36867         # Capture timestamp\n",
    "   # EXIF_TIMESTAMP_OFFSET = 36881         # Timestamp UTC offset (general)\n",
    "   # EXIF_ORIGIN_TIMESTAMP_OFFSET = 36881  # Capture timestamp UTC offset\n",
    "\n",
    "   # cur_stamp, cur_offset = (None, None)\n",
    "\n",
    "    # try to load EXIF data\n",
    "   # exif_tags = piexif.load(file_path)\n",
    "   # if not exif_tags or \"Exif\" not in exif_tags:\n",
    "   #     return None\n",
    "    \n",
    "   # def convert_and_clean_tag(value):\n",
    "        # internal helper function for handling EXIF tag values\n",
    "      #  if not value:\n",
    "      #      return None\n",
    "\n",
    "        # Convert bytes to string\n",
    "       # if isinstance(value, bytes):\n",
    "        #    value = value.decode('UTF-8').strip()\n",
    "       # else:\n",
    "        #    value = value.strip()\n",
    "\n",
    "        # Check for an empty string after stripping colons\n",
    "       # if value:\n",
    "          #  if not value.replace(\":\", \"\").replace(\"+:\", \"\").replace(\"-\", \"\").strip():\n",
    "          #      value = None\n",
    "\n",
    "       # return None if not value else value\n",
    "\n",
    "    # Process the EXIF data\n",
    "   # if EXIF_ORIGIN_TIMESTAMP in exif_tags:\n",
    "     #   cur_stamp = convert_and_clean_tag(exif_tags[EXIF_ORIGIN_TIMESTAMP])\n",
    "    #if not cur_stamp:\n",
    "     #   return None\n",
    "\n",
    "    #if EXIF_ORIGIN_TIMESTAMP_OFFSET in exif_tags:\n",
    "       # cur_offset = convert_and_clean_tag(exif_tags[EXIF_ORIGIN_TIMESTAMP_OFFSET])\n",
    "   # if not cur_offset and EXIF_TIMESTAMP_OFFSET in exif_tags:\n",
    "       # cur_offset = convert_and_clean_tag(exif_tags[EXIF_TIMESTAMP_OFFSET])\n",
    "\n",
    "    # Format the string to a timestamp and return the result\n",
    "    #try:\n",
    "     #   if not cur_offset:\n",
    "      #      cur_ts = datetime.datetime.fromisoformat(cur_stamp)\n",
    "      #  else:\n",
    "       #     cur_offset = cur_offset.replace(\":\", \"\")\n",
    "        #    cur_ts = datetime.datetime.fromisoformat(cur_stamp + cur_offset)\n",
    "  #  except Exception as ex:\n",
    "      #  cur_ts = None\n",
    "       # print(\"Exception caught converting EXIF tag to timestamp: %s\", str(ex))\n",
    "\n",
    "    #return cur_ts\n"
   ]
  },
  {
   "cell_type": "code",
   "execution_count": 7,
   "id": "ecdab97d",
   "metadata": {
    "tags": []
   },
   "outputs": [
    {
     "name": "stdout",
     "output_type": "stream",
     "text": [
      "Finished collecting items\n"
     ]
    }
   ],
   "source": [
    "from pystac.extensions.projection import ProjectionExtension\n",
    "from pystac.extensions.raster import RasterExtension\n",
    "\n",
    "# get a list of geospatial files (in this case located in Cyverse data store)\n",
    "folder = Path(source_image_folder)\n",
    "files = list(folder.rglob('*.tif'))#find files that end with .tif\n",
    "\n",
    "# loop through each .tif item in the folder and do several things\n",
    "all_items = []\n",
    "for file in files:\n",
    "\n",
    "    # open the individual file with rasterio\n",
    "    ds = rasterio.open(file)\n",
    "\n",
    "    # apply the function to get the bounding box (left, bottom, right, top) and make a footprint rectangle\n",
    "    bbox, footprint = get_bbox_and_footprint(ds)\n",
    "\n",
    "    # extract the spatial resolution (gsd) of the image product using the function 'spatial_resolution'.\n",
    "    x_res,y_res = spatial_resolution(ds)\n",
    "\n",
    "    # the ID (name) for each indivual file\n",
    "    idx = file.stem\n",
    "    \n",
    "    # get the timestamp to use - try to load capture date from file, otherwise use the start timestamp\n",
    "    #file_datetime = exif_to_timestamp(str(file))\n",
    "   # if not file_datetime:\n",
    "    file_datetime = default_datetime\n",
    "       # print(f\"Using the default timestamp for image {file}\")\n",
    "\n",
    "    # create a STAC item for each individual file \n",
    "    item = pystac.Item(id=idx,\n",
    "                 geometry=footprint,\n",
    "                 bbox=bbox,\n",
    "                 datetime=file_datetime,\n",
    "                 stac_extensions=['https://stac-extensions.github.io/projection/v1.0.0/schema.json',\n",
    "                                 'https://stac-extensions.github.io/processing/v1.1.0/schema.json'],\n",
    "                 properties={'gsd': x_res,\n",
    "                            'platform': platform,\n",
    "                            'license': license,\n",
    "                            'mission': items_mission_description})\n",
    "\n",
    "    # adding the projection extension to each item \n",
    "    asset_ext = ProjectionExtension.add_to(item)\n",
    "    ProjectionExtension.ext(item).apply(ds.crs.to_epsg(),\n",
    "                                        shape = ds.shape,\n",
    "                                        bbox = bbox,\n",
    "                                        geometry = footprint)\n",
    "                                        #transform = [float(getattr(ds.transform, letter)) for letter in 'abcdef']\n",
    "                                        #)\n",
    "\n",
    "    #raster_ext = RasterExtension.add_to(item)\n",
    "   # ItemRasterExtension.ext(item).apply(datatype = data_type)\n",
    "\n",
    "    # add the asset to each STAC item                      \n",
    "    item.add_asset(\n",
    "        key='geotiff',\n",
    "        asset=pystac.Asset(\n",
    "            href=file.as_posix(),\n",
    "            media_type=pystac.MediaType.GEOTIFF,\n",
    "            extra_fields=asset_ext\n",
    "        )\n",
    "    )\n",
    "\n",
    "    # add each STAC item to the list\n",
    "    all_items.append(item)    \n",
    "    \n",
    "   \n",
    "print(\"Finished collecting items\")"
   ]
  },
  {
   "cell_type": "code",
   "execution_count": 8,
   "id": "f5e85be0-75fd-4d24-819b-edfba3e1636c",
   "metadata": {
    "tags": []
   },
   "outputs": [],
   "source": [
    "# the geographic extent of all the items added\n",
    "item_extents = pystac.Extent.from_items(all_items)\n",
    "\n",
    "# creating the collection\n",
    "collection = pystac.Collection(id=collection_id,\n",
    "                               description=collection_description,\n",
    "                               extent=item_extents,\n",
    "                               license=license)\n",
    "\n",
    "# add all STAC item to the STAC collection\n",
    "for item in all_items:\n",
    "    collection.add_item(item)\n",
    "    \n",
    "catalog.add_child(collection)"
   ]
  },
  {
   "cell_type": "code",
   "execution_count": 9,
   "id": "04f8313a-c5fb-41c9-8a5b-c0c52475df4c",
   "metadata": {
    "tags": []
   },
   "outputs": [
    {
     "name": "stdout",
     "output_type": "stream",
     "text": [
      "10\n",
      "* <Catalog id=Cyverse Remotely Sensed Imagery STAC Catalog>\n",
      "    * <Collection id=Drone_Imagery_Collection>\n",
      "      * <Item id=bighorn_c12_DTM>\n",
      "      * <Item id=bighorn_c22_DSM>\n",
      "      * <Item id=bighorn_c22_DTM>\n",
      "      * <Item id=bighorn_c23_DSM>\n",
      "      * <Item id=bighorn_c23_DTM>\n",
      "      * <Item id=bighorn_m13_DSM>\n",
      "      * <Item id=bighorn_m13_DTM>\n",
      "      * <Item id=bighorn_m13_ortho>\n",
      "      * <Item id=bighorn_p3_DSM>\n",
      "      * <Item id=bighorn_p3_DTM>\n"
     ]
    }
   ],
   "source": [
    "# print the number of STAC items that were added to the STAC catalog    \n",
    "print(len(list(collection.get_items())))\n",
    "\n",
    "# describe the items in the STAC catalog\n",
    "catalog.describe()"
   ]
  },
  {
   "cell_type": "code",
   "execution_count": 10,
   "id": "b188fc61",
   "metadata": {
    "scrolled": true,
    "tags": []
   },
   "outputs": [],
   "source": [
    "# write the STAC catalog out\n",
    "catalog.normalize_hrefs(stac_output_directory)\n",
    "\n",
    "catalog.make_all_asset_hrefs_relative()\n",
    "catalog.save(catalog_type=pystac.CatalogType.SELF_CONTAINED)"
   ]
  },
  {
   "cell_type": "markdown",
   "id": "33b4d692",
   "metadata": {
    "raw_mimetype": "text/markdown"
   },
   "source": [
    "To make the saved catalog available, you will need to:\n",
    "-  share the output folder to \\\"public\\\" using the [Discovery Environment](https://de.cyverse.org/) Data tab\n",
    "- add your catalog to the CyVerse [master catalog](/iplant/home/jgillan/stac.cyverse.org/cyverse_stac_catalog/catalog.json)\n"
   ]
  },
  {
   "cell_type": "code",
   "execution_count": 11,
   "id": "65966c71",
   "metadata": {},
   "outputs": [],
   "source": [
    "#%pip install python-irodsclient"
   ]
  },
  {
   "cell_type": "markdown",
   "id": "5a28bd8a",
   "metadata": {},
   "source": [
    "The following will share the folder containing your catalog with the CyVerse `public` user using read-only permissions\n",
    "\n",
    "You will be prompted to enter your CyVerse username and password. Be sure to use the *Enter* key for each prompt"
   ]
  },
  {
   "cell_type": "code",
   "execution_count": 12,
   "id": "edb6ab5b",
   "metadata": {},
   "outputs": [],
   "source": [
    "#import os\n",
    "#from getpass import getpass\n",
    "#from irods.access import iRODSAccess\n",
    "#from irods.session import iRODSSession\n",
    "\n",
    "#irods_username = input('Enter your CyVerse user name:')\n",
    "#irods_password = getpass('Enter your CyVerse password:')\n",
    "\n",
    "#sess = iRODSSession(host='data.cyverse.org', port=1247, user=irods_username, password=irods_password, zone='iplant')\n",
    "\n",
    "#user = sess.users.get(sess.username, sess.zone)\n",
    "\n",
    "# add the needed users for linking\n",
    "#acl_path = '/' + os.path.join(*(stac_output_directory.split(os.path.sep)[2:]))\n",
    "#acl = iRODSAccess('read', acl_path, 'anonymous', user.zone)\n",
    "#sess.acls.set(acl, recursive=True)\n",
    "\n",
    "#sess.cleanup()\n",
    "\n",
    "#print(\"Folder updated\")"
   ]
  },
  {
   "cell_type": "markdown",
   "id": "0f111a5b",
   "metadata": {},
   "source": [
    "**Almost Done!**\n",
    "\n",
    "To have a *newly created* catalog added to the global CyVerse catalog, update `your_email` using your email address\n",
    "and send an email using the following:"
   ]
  },
  {
   "cell_type": "code",
   "execution_count": 13,
   "id": "4ae72d1c",
   "metadata": {
    "tags": []
   },
   "outputs": [],
   "source": [
    "#your_email = '<someone>@arizona.edu'\n",
    "\n",
    "# Import smtplib for the actual sending function\n",
    "#import smtplib\n",
    "\n",
    "# Import the email modules we'll need\n",
    "#from email.mime.text import MIMEText\n",
    "\n",
    "#msg = MIMEText(\"Please add the following STAC catalog to the main CyVerse catalog: \" + \n",
    "           #    \"https://data.cyverse.org/dav-anon/\" + os.path.join(*(stac_output_directory.split(os.path.sep)[2:])) +\n",
    "             #  \"/catalog.json\")\n",
    "#msg['Subject'] = 'Add new STAC catalog to main CyVerse catalog'\n",
    "#msg['From'] = your_email\n",
    "#msg['To'] = contact_email\n",
    "\n",
    "# Send the message via our own SMTP server, but don't include the\n",
    "# envelope header.\n",
    "#smtp = smtplib.SMTP(smtp_host)\n",
    "#smtp.sendmail(your_email, [contact_email], msg.as_string())\n",
    "#smtp.quit()\n"
   ]
  },
  {
   "cell_type": "markdown",
   "id": "bb73d2a6-d0b0-4e1c-92f2-d0ff9d609e76",
   "metadata": {
    "tags": []
   },
   "source": [
    "The following is experimental, trying to creat multiple polygons to display on the STAC browser collection"
   ]
  },
  {
   "cell_type": "code",
   "execution_count": null,
   "id": "891ebc43-8a00-4336-9ee2-198bd9bf860a",
   "metadata": {},
   "outputs": [],
   "source": [
    "import pystac\n",
    "import json\n",
    "\n",
    "catalog = pystac.Catalog.from_file('/data-store/iplant/home/jgillan/STAC_drone/stac_bighorn_fire/catalog.json')\n",
    "\n",
    "footprints = []\n",
    "for item in catalog.get_all_items():\n",
    "    footprint = item.geometry\n",
    "    footprints.append(footprint)\n",
    "\n",
    "geojson = {\n",
    "    \"type\": \"FeatureCollection\",\n",
    "    \"features\": [\n",
    "        {\n",
    "            \"type\": \"Feature\",\n",
    "            \"geometry\": footprint,\n",
    "            \"properties\": {}\n",
    "        }\n",
    "        for footprint in footprints\n",
    "    ]\n",
    "}\n"
   ]
  },
  {
   "cell_type": "code",
   "execution_count": 15,
   "id": "bf917633-f96d-4ec7-9f3b-26016efe256b",
   "metadata": {
    "tags": []
   },
   "outputs": [],
   "source": [
    "with open('/data-store/iplant/home/jgillan/STAC_drone/stac_bighorn_fire/Drone_Imagery_Collection/collection.json', 'r') as f:\n",
    "    collection_data = json.load(f)\n",
    "\n",
    "collection_data['individual_footprints'] = geojson\n",
    "\n",
    "with open('/data-store/iplant/home/jgillan/STAC_drone/stac_bighorn_fire/Drone_Imagery_Collection/collection.json', 'w') as f:\n",
    "    json.dump(collection_data, f, indent=2)\n"
   ]
  },
  {
   "cell_type": "code",
   "execution_count": null,
   "id": "282ffa93-7d87-4bd4-86af-21c56dac2610",
   "metadata": {},
   "outputs": [],
   "source": []
  }
 ],
 "metadata": {
  "kernelspec": {
   "display_name": "Python 3 (ipykernel)",
   "language": "python",
   "name": "python3"
  },
  "language_info": {
   "codemirror_mode": {
    "name": "ipython",
    "version": 3
   },
   "file_extension": ".py",
   "mimetype": "text/x-python",
   "name": "python",
   "nbconvert_exporter": "python",
   "pygments_lexer": "ipython3",
   "version": "3.10.9"
  }
 },
 "nbformat": 4,
 "nbformat_minor": 5
}
