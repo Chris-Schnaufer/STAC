{
 "cells": [
  {
   "cell_type": "markdown",
   "id": "3e2fbb91",
   "metadata": {},
   "source": [
    "This code will create a STAC catalog and add several items from a local folder"
   ]
  },
  {
   "cell_type": "markdown",
   "id": "c2ca0120-bea1-467b-a39c-80b6098df034",
   "metadata": {},
   "source": [
    "How do I put the date of image acquisition for an imagery product?  I don't think there is an automated way to do it. I need to manually input it. But how? Maybe I need to add metadata to imagery products within Cyverse and then read that metadata with pystack? How do I write metadata in Cyverse? "
   ]
  },
  {
   "cell_type": "code",
   "execution_count": 1,
   "id": "6a4ef00a",
   "metadata": {
    "scrolled": true,
    "tags": []
   },
   "outputs": [
    {
     "name": "stdout",
     "output_type": "stream",
     "text": [
      "Requirement already satisfied: rasterio in /opt/conda/lib/python3.10/site-packages (1.3.6)\n",
      "Requirement already satisfied: shapely in /opt/conda/lib/python3.10/site-packages (2.0.1)\n",
      "Requirement already satisfied: pystac in /opt/conda/lib/python3.10/site-packages (1.7.0)\n",
      "Requirement already satisfied: click-plugins in /opt/conda/lib/python3.10/site-packages (from rasterio) (1.1.1)\n",
      "Requirement already satisfied: click>=4.0 in /opt/conda/lib/python3.10/site-packages (from rasterio) (8.1.3)\n",
      "Requirement already satisfied: setuptools in /opt/conda/lib/python3.10/site-packages (from rasterio) (67.1.0)\n",
      "Requirement already satisfied: cligj>=0.5 in /opt/conda/lib/python3.10/site-packages (from rasterio) (0.7.2)\n",
      "Requirement already satisfied: attrs in /opt/conda/lib/python3.10/site-packages (from rasterio) (22.2.0)\n",
      "Requirement already satisfied: snuggs>=1.4.1 in /opt/conda/lib/python3.10/site-packages (from rasterio) (1.4.7)\n",
      "Requirement already satisfied: affine in /opt/conda/lib/python3.10/site-packages (from rasterio) (2.4.0)\n",
      "Requirement already satisfied: certifi in /opt/conda/lib/python3.10/site-packages (from rasterio) (2022.12.7)\n",
      "Requirement already satisfied: numpy>=1.18 in /opt/conda/lib/python3.10/site-packages (from rasterio) (1.23.5)\n",
      "Requirement already satisfied: python-dateutil>=2.7.0 in /opt/conda/lib/python3.10/site-packages (from pystac) (2.8.2)\n",
      "Requirement already satisfied: six>=1.5 in /opt/conda/lib/python3.10/site-packages (from python-dateutil>=2.7.0->pystac) (1.16.0)\n",
      "Requirement already satisfied: pyparsing>=2.1.6 in /opt/conda/lib/python3.10/site-packages (from snuggs>=1.4.1->rasterio) (3.0.9)\n",
      "Note: you may need to restart the kernel to use updated packages.\n"
     ]
    }
   ],
   "source": [
    "%pip install rasterio shapely pystac"
   ]
  },
  {
   "cell_type": "code",
   "execution_count": 2,
   "id": "b31d3fde-b1c6-463c-a885-a160e4ce1d9d",
   "metadata": {},
   "outputs": [],
   "source": [
    "#Additional Metadata to add to items\n",
    "platform =\"DJI Phantom 4 RTK\"\n",
    "license = \"CC-BY-SA-4.0\"\n",
    "\n",
    "#input the date and time of original imagery acquisition\n",
    "#dating assets will be a manual process. \n",
    "from datetime import datetime\n",
    "year = 2019\n",
    "month = 5\n",
    "day = 25\n",
    "hour = 12\n",
    "    \n",
    "#Create datetime object\n",
    "user_datetime = datetime(year, month, day, hour)\n",
    "\n",
    "data_type = 'uint8'\n",
    "mission_description =\"The imagery was part of the Ecostate Mapping project of 2019 at Santa Rita Experimental Range\"\n"
   ]
  },
  {
   "cell_type": "code",
   "execution_count": 3,
   "id": "06301146",
   "metadata": {
    "tags": []
   },
   "outputs": [],
   "source": [
    "from pathlib import Path\n",
    "import pystac\n",
    "import os\n",
    "\n",
    "catalog = pystac.Catalog(\n",
    "    id='Cyverse Remotely Sensed Imagery STAC Catalog',\n",
    "    description='This catalog includes all of the imagery assets the exist in Cyverse Data Store',\n",
    "    stac_extensions=['https://stac-extensions.github.io/projection/v1.0.0/schema.json',\n",
    "                    'https://stac-extensions.github.io/processing/v1.1.0/schema.json']\n",
    ")"
   ]
  },
  {
   "cell_type": "markdown",
   "id": "72298b02-2bfc-4d85-9174-e3e843b10790",
   "metadata": {},
   "source": [
    "This following code is a Python function called \"get_bbox_and_footprint\" that takes in a dataset (either from rasterio or rioxarray) and returns a tuple containing the bounding box of the dataset and the footprint of the dataset. The bounding box is represented as a list of 4 coordinates [left, bottom, right, top] and the footprint is represented as a shapely Polygon object.\n",
    "\n",
    "First, the code imports the Polygon and mapping functions from the shapely.geometry library, and the rasterio library.\n",
    "\n",
    "The function starts by extracting the bounds of the input dataset using the bounds attribute. The code then checks if the bounds are of type rasterio.coords.BoundingBox or not. If they are, it assigns the left, bottom, right and top coordinates of the bounding box to the bbox variable. If not, it creates a list of floating point numbers by iterating over the bounds and assigns it to the bbox variable.\n",
    "\n",
    "Finally, the code creates a Polygon object using a list of the four corner coordinates of the bounding box. The footprint is obtained by mapping the Polygon object.\n",
    "\n",
    "The function returns a tuple containing the bounding box and the footprint of the dataset."
   ]
  },
  {
   "cell_type": "code",
   "execution_count": 4,
   "id": "551ad62e-e759-4110-9add-e5a2a1e67c84",
   "metadata": {
    "tags": []
   },
   "outputs": [],
   "source": [
    "import rasterio\n",
    "\n",
    "#a function to truncate spatial resolution to 3 decimal places\n",
    "def trun_n_d(num,n):\n",
    "    num_s = str(num)\n",
    "    if 'e' in num_s or 'E' in num_s:\n",
    "        return '{0:.{1}f}'.format(num,n)\n",
    "    i,p,d = num_s.partition('.')\n",
    "    return '.'.join([i,(d+'0'*n)[:n]])\n",
    "\n",
    "#function to get the spatial resolution of a raster\n",
    "def spatial_resolution(raster):\n",
    "    \"\"\"extracts the XY Pixel Size\"\"\"\n",
    "    t = raster.transform\n",
    "    x = t[0]\n",
    "    y = -t[4]\n",
    "    x_trunc = trun_n_d(x, 3)\n",
    "    y_trunc = trun_n_d(y, 3)\n",
    "    return x_trunc, y_trunc"
   ]
  },
  {
   "cell_type": "code",
   "execution_count": 5,
   "id": "cf773eff",
   "metadata": {
    "tags": []
   },
   "outputs": [],
   "source": [
    "from shapely.geometry import Polygon, mapping\n",
    "import rasterio\n",
    "import rasterio.warp\n",
    "import rasterio.features\n",
    "\n",
    "#This creates a function called 'get_bbox_and_footprint' \n",
    "def get_bbox_and_footprint(dataset):\n",
    "\n",
    "    # create the bounding box it will depend if it comes from rasterio or rioxarray\n",
    "    bounds = dataset.bounds\n",
    "    \n",
    "    bounds = rasterio.warp.transform_bounds(dataset.crs, 'EPSG:4326', \n",
    "                                            bounds.left, bounds.bottom, bounds.right, bounds.top)\n",
    "    bounds = rasterio.coords.BoundingBox(bounds[0], bounds[1], bounds[2], bounds[3])\n",
    "    \n",
    "    #from rasterio.warp import transform_bounds, transform_geom\n",
    "    #bounds = rasterio.warp.transform_geom(\n",
    "         #   dataset.crs, 'EPSG:4326', bounds, precision=6)\n",
    "    \n",
    "    if isinstance(bounds, rasterio.coords.BoundingBox):\n",
    "        bbox = [bounds.left, bounds.bottom, bounds.right, bounds.top]\n",
    "    else:\n",
    "        bbox = [float(f) for f in bounds()]\n",
    "\n",
    "    # create the 4 corners of the footprint\n",
    "    footprint = Polygon([\n",
    "        [bbox[0], bbox[1]],#left bottom\n",
    "        [bbox[0], bbox[3]],#left top\n",
    "        [bbox[2], bbox[3]],#right top\n",
    "        [bbox[2], bbox[1]] #right bottom\n",
    "    ])\n",
    "\n",
    "    return bbox, mapping(footprint)"
   ]
  },
  {
   "cell_type": "code",
   "execution_count": 7,
   "id": "ecdab97d",
   "metadata": {
    "tags": []
   },
   "outputs": [
    {
     "ename": "ImportError",
     "evalue": "cannot import name 'ItemRasterExtension' from 'pystac.extensions.raster' (/opt/conda/lib/python3.10/site-packages/pystac/extensions/raster.py)",
     "output_type": "error",
     "traceback": [
      "\u001b[0;31m---------------------------------------------------------------------------\u001b[0m",
      "\u001b[0;31mImportError\u001b[0m                               Traceback (most recent call last)",
      "Cell \u001b[0;32mIn[7], line 3\u001b[0m\n\u001b[1;32m      1\u001b[0m \u001b[38;5;28;01mfrom\u001b[39;00m \u001b[38;5;21;01mpystac\u001b[39;00m\u001b[38;5;21;01m.\u001b[39;00m\u001b[38;5;21;01mextensions\u001b[39;00m\u001b[38;5;21;01m.\u001b[39;00m\u001b[38;5;21;01mprojection\u001b[39;00m \u001b[38;5;28;01mimport\u001b[39;00m ProjectionExtension\n\u001b[1;32m      2\u001b[0m \u001b[38;5;28;01mfrom\u001b[39;00m \u001b[38;5;21;01mpystac\u001b[39;00m\u001b[38;5;21;01m.\u001b[39;00m\u001b[38;5;21;01mextensions\u001b[39;00m\u001b[38;5;21;01m.\u001b[39;00m\u001b[38;5;21;01mraster\u001b[39;00m \u001b[38;5;28;01mimport\u001b[39;00m RasterExtension\n\u001b[0;32m----> 3\u001b[0m \u001b[38;5;28;01mfrom\u001b[39;00m \u001b[38;5;21;01mpystac\u001b[39;00m\u001b[38;5;21;01m.\u001b[39;00m\u001b[38;5;21;01mextensions\u001b[39;00m\u001b[38;5;21;01m.\u001b[39;00m\u001b[38;5;21;01mraster\u001b[39;00m \u001b[38;5;28;01mimport\u001b[39;00m ItemRasterExtension\n\u001b[1;32m      5\u001b[0m \u001b[38;5;66;03m#get a list of geospatial files (in this case located in Cyverse data store)\u001b[39;00m\n\u001b[1;32m      6\u001b[0m folder \u001b[38;5;241m=\u001b[39m Path(\u001b[38;5;124m'\u001b[39m\u001b[38;5;124m/data-store/iplant/home/jgillan/STAC_drone\u001b[39m\u001b[38;5;124m'\u001b[39m)\n",
      "\u001b[0;31mImportError\u001b[0m: cannot import name 'ItemRasterExtension' from 'pystac.extensions.raster' (/opt/conda/lib/python3.10/site-packages/pystac/extensions/raster.py)"
     ]
    }
   ],
   "source": [
    "from pystac.extensions.projection import ProjectionExtension\n",
    "from pystac.extensions.raster import RasterExtension\n",
    "\n",
    "#get a list of geospatial files (in this case located in Cyverse data store)\n",
    "folder = Path('/data-store/iplant/home/jgillan/STAC_drone')\n",
    "files = list(folder.rglob('*.tif'))#find files that end with .tif\n",
    "\n",
    "\n",
    "\n",
    "#loop through each .tif item in the folder and do several things\n",
    "all_items = []\n",
    "for file in files:\n",
    "\n",
    "    # open the individual file with rasterio\n",
    "    ds = rasterio.open(file)\n",
    "    #print(file)\n",
    "    #apply the function to get the bounding box (left, bottom, right, top) and make a footprint rectangle\n",
    "    bbox, footprint = get_bbox_and_footprint(ds)\n",
    "    \n",
    "    #Extract the spatial resolution (gsd) of the image product using the function 'spatial_resolution'.\n",
    "    x_res,y_res = spatial_resolution(ds)\n",
    "    \n",
    "    #the ID (name) for each indivual file\n",
    "    idx = file.stem\n",
    "    \n",
    "    \n",
    "    #Create a STAC item for each individual file \n",
    "    item = pystac.Item(id=idx,\n",
    "                 geometry=footprint,\n",
    "                 bbox=bbox,\n",
    "                 datetime=user_datetime,\n",
    "                 stac_extensions=['https://stac-extensions.github.io/projection/v1.0.0/schema.json',\n",
    "                                 'https://stac-extensions.github.io/processing/v1.1.0/schema.json'],\n",
    "                 properties={\"gsd\": x_res,\n",
    "                            \"platform\":platform,\n",
    "                            \"license\":license,\n",
    "                            \"mission\":mission_description})\n",
    "    \n",
    "    # Adding the projection extension to each item \n",
    "    asset_ext = ProjectionExtension.add_to(item)\n",
    "    ProjectionExtension.ext(item).apply(ds.crs.to_epsg(),\n",
    "                                        shape = ds.shape,\n",
    "                                        bbox = bbox,\n",
    "                                        geometry = footprint)\n",
    "                                        #transform = [float(getattr(ds.transform, letter)) for letter in 'abcdef']\n",
    "                                        #)\n",
    "  \n",
    "\n",
    "    #raster_ext = RasterExtension.add_to(item)\n",
    "   # ItemRasterExtension.ext(item).apply(datatype = data_type)\n",
    "        \n",
    "    #add the asset to each STAC item                      \n",
    "    item.add_asset(\n",
    "        key='geotiff',\n",
    "        asset=pystac.Asset(\n",
    "            href=file.as_posix(),\n",
    "            media_type=pystac.MediaType.GEOTIFF,\n",
    "            extra_fields=asset_ext\n",
    "        )\n",
    "    )\n",
    "    \n",
    "    # Add each STAC item to the list\n",
    "    all_items.append(item)\n",
    "    "
   ]
  },
  {
   "cell_type": "code",
   "execution_count": null,
   "id": "f5e85be0-75fd-4d24-819b-edfba3e1636c",
   "metadata": {
    "tags": []
   },
   "outputs": [],
   "source": [
    "item_extents = pystac.Extent.from_items(all_items)\n",
    "\n",
    "\n",
    "collection = pystac.Collection(id='Drone_Imagery_Collection',\n",
    "                               description='Drone_Imagery',\n",
    "                               extent=item_extents,\n",
    "                               license='CC-BY-SA-4.0')\n",
    "\n",
    "for item in all_items:\n",
    "    #add each STAC item to the STAC collection\n",
    "    collection.add_item(item)\n",
    "    \n",
    "catalog.add_child(collection)"
   ]
  },
  {
   "cell_type": "code",
   "execution_count": null,
   "id": "04f8313a-c5fb-41c9-8a5b-c0c52475df4c",
   "metadata": {
    "tags": []
   },
   "outputs": [],
   "source": [
    "#print the number of STAC items that were added to the STAC catalog    \n",
    "print(len(list(collection.get_items())))\n",
    "\n",
    "#Describe the items in the STAC catalog\n",
    "catalog.describe()"
   ]
  },
  {
   "cell_type": "code",
   "execution_count": null,
   "id": "b188fc61",
   "metadata": {
    "scrolled": true,
    "tags": []
   },
   "outputs": [],
   "source": [
    "#output directory for STAC catalog\n",
    "stac_directory=\"/data-store/iplant/home/jgillan/STAC_drone\"\n",
    "\n",
    "catalog.normalize_hrefs(os.path.join(stac_directory, 'stac_test105'))#name of the new directory\n",
    "\n",
    "catalog.make_all_asset_hrefs_relative()\n",
    "catalog.save(catalog_type=pystac.CatalogType.SELF_CONTAINED)"
   ]
  },
  {
   "cell_type": "code",
   "execution_count": null,
   "id": "aec0a159-ef64-4482-88d5-373bfdece38b",
   "metadata": {},
   "outputs": [],
   "source": []
  }
 ],
 "metadata": {
  "kernelspec": {
   "display_name": "Python 3 (ipykernel)",
   "language": "python",
   "name": "python3"
  },
  "language_info": {
   "codemirror_mode": {
    "name": "ipython",
    "version": 3
   },
   "file_extension": ".py",
   "mimetype": "text/x-python",
   "name": "python",
   "nbconvert_exporter": "python",
   "pygments_lexer": "ipython3",
   "version": "3.10.9"
  }
 },
 "nbformat": 4,
 "nbformat_minor": 5
}
